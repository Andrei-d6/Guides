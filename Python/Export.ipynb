{
 "cells": [
  {
   "cell_type": "code",
   "execution_count": 1,
   "metadata": {},
   "outputs": [],
   "source": [
    "#default_export export\n",
    "#export\n",
    "from textwrap import TextWrapper\n",
    "from keyword import iskeyword\n",
    "from pathlib import Path\n",
    "import nbformat\n",
    "import os, re\n",
    "\n",
    "from typing import List, Tuple, Pattern, Match, Union"
   ]
  },
  {
   "cell_type": "markdown",
   "metadata": {},
   "source": [
    "# Export a Jupyter Notebook\n",
    "\n",
    "Convert a Jupyter Notebook into a python module using `exportNotebook` and `exportNotebooks`.\n",
    "\n",
    "## Quick guide\n",
    "In order to export cells to a notebook add:\n",
    " - `#export` for every cell you want to export\n",
    " - `#exporti` for every cell you want to export without adding it to \\_\\_all\\_\\_ \n",
    " - `#export[i] module_name` for cells you want to export in a module named **module_name**\n",
    " \n",
    "For giving a name for the python module from within the notebook add `#default_export module_name` on any code cell in the notebook (it is reccomended that you add this at the very beggining for clarity)\n",
    "\n",
    "## Examples"
   ]
  },
  {
   "cell_type": "code",
   "execution_count": 2,
   "metadata": {},
   "outputs": [],
   "source": [
    "#default_export demo_name"
   ]
  },
  {
   "cell_type": "markdown",
   "metadata": {},
   "source": [
    "Since there is already a `#default_export export` in the first cell of the notebook, that name will be used.\n",
    "<br>\n",
    "\n",
    "### Note that private functions, classes or variables will not be included in the \\_\\_all\\_\\_ of the exported module"
   ]
  },
  {
   "cell_type": "code",
   "execution_count": 3,
   "metadata": {},
   "outputs": [],
   "source": [
    "#export\n",
    "CELL_TYPE = 'cell_type'\n",
    "SOURCE = 'source'\n",
    "CELLS = 'cells'\n",
    "CODE = 'code'"
   ]
  },
  {
   "cell_type": "code",
   "execution_count": 4,
   "metadata": {},
   "outputs": [],
   "source": [
    "#export\n",
    "MAYBE_MODULE = 0\n",
    "NO_MODULE = 1\n",
    "MODULE = 2"
   ]
  },
  {
   "cell_type": "code",
   "execution_count": 5,
   "metadata": {},
   "outputs": [],
   "source": [
    "nb_name = 'Export.ipynb'\n",
    "nb_path = Path('./')\n",
    "nb_path = nb_path/nb_name"
   ]
  },
  {
   "cell_type": "code",
   "execution_count": 6,
   "metadata": {},
   "outputs": [],
   "source": [
    "#export\n",
    "def read_notebook(nb_name: str) -> nbformat.notebooknode.NotebookNode:\n",
    "    \"\"\"\n",
    "    Read a Jupyter Notebook using the nbformat module\n",
    "    \n",
    "    :param nb_name: The name of the jupyter notebook file\n",
    "    :return: The notebook as a dictionary\n",
    "    \"\"\"\n",
    "    with open(Path(nb_name),'r', encoding='utf8') as f: \n",
    "        return nbformat.reads(f.read(), as_version=4)"
   ]
  },
  {
   "cell_type": "code",
   "execution_count": 7,
   "metadata": {},
   "outputs": [],
   "source": [
    "test_nb = read_notebook('Export.ipynb')"
   ]
  },
  {
   "cell_type": "code",
   "execution_count": 8,
   "metadata": {},
   "outputs": [
    {
     "data": {
      "text/plain": [
       "dict_keys(['cells', 'metadata', 'nbformat', 'nbformat_minor'])"
      ]
     },
     "execution_count": 8,
     "metadata": {},
     "output_type": "execute_result"
    }
   ],
   "source": [
    "test_nb.keys()"
   ]
  },
  {
   "cell_type": "code",
   "execution_count": 9,
   "metadata": {},
   "outputs": [
    {
     "data": {
      "text/plain": [
       "{'cell_type': 'code',\n",
       " 'execution_count': 1,\n",
       " 'metadata': {},\n",
       " 'outputs': [],\n",
       " 'source': '#default_export export\\n#export\\nfrom textwrap import TextWrapper\\nfrom keyword import iskeyword\\nfrom pathlib import Path\\nimport nbformat\\nimport os, re\\n\\nfrom typing import List, Tuple, Pattern, Match, Union'}"
      ]
     },
     "execution_count": 9,
     "metadata": {},
     "output_type": "execute_result"
    }
   ],
   "source": [
    "test_nb['cells'][0]"
   ]
  },
  {
   "cell_type": "code",
   "execution_count": 10,
   "metadata": {},
   "outputs": [],
   "source": [
    "#export\n",
    "def file_exists(file_name: str) -> bool:\n",
    "    \"\"\"\n",
    "    Check if there exists a file with a given filename\n",
    "    \n",
    "    :param file_name: The name of the file\n",
    "    :return: If there is a file with that name at the given path\n",
    "    \"\"\"\n",
    "    return Path(file_name).is_file()"
   ]
  },
  {
   "cell_type": "code",
   "execution_count": 11,
   "metadata": {},
   "outputs": [],
   "source": [
    "#export\n",
    "def create_empty_file(module_name:str, nb_path: Path, include_header: bool=True) -> None:\n",
    "    \"\"\"\n",
    "    Create an empty python module with given name relative to the path\n",
    "    of the notebook that will be exported in that module\n",
    "    \n",
    "    :param module_name: The name of the python module\n",
    "    :param nb_path: The path to the notebook that will be exported\n",
    "    :param include_header: Flag for writing 'AUTOGENERATED' on the new python module\n",
    "    \"\"\"\n",
    "    \n",
    "    # get the path where the new file will be created (relative to the notebook)\n",
    "    file_path = os.path.relpath(nb_path).replace('\\\\', '/')\n",
    "    \n",
    "    # make sure the python module ends with a .py\n",
    "    if not module_name.endswith('.py'):\n",
    "        module_name += '.py'\n",
    "    \n",
    "    with open(module_name, 'w') as f:\n",
    "        if include_header:\n",
    "            f.write(f\"# AUTOGENERATED from Notebook: {file_path}!\")\n",
    "        f.write('\\n\\n__all__ = []')"
   ]
  },
  {
   "cell_type": "markdown",
   "metadata": {},
   "source": [
    "# Regular Expression\n",
    "\n",
    "https://docs.python.org/3/howto/regex.html#grouping"
   ]
  },
  {
   "cell_type": "markdown",
   "metadata": {},
   "source": [
    "# Regular Expression mini-cheatsheet\n",
    "\n",
    "\n",
    "## Special Chracters\n",
    "`.` - Matches any character except line terminators like `\\n` <br>\n",
    "`+` - Greedily matches the expression to its left 1 or more times. <br>\n",
    "`^` - Matches the expression to its right at the start of a string. It matches every such instance before each `\\n` in the string. <br>\n",
    "`$` - Matches the expression to its left at the end of a string. It matches every such instance before each `\\n` in the string.<br>\n",
    "\n",
    "## Character Classes\n",
    "`\\s` - Matches whitespace characters, which include the `\\t`, `\\n`, `\\r`, and space characters. <br>\n",
    "`\\S` - Matches non-whitespace characters. <br>\n",
    "\n",
    "## Groups\n",
    "`(?#...)` - A comment. Contents are for us to read, not for matching <br>\n",
    "`(?PAB)` - Matches the expression AB, and it can be accessed with the group name. <br>\n",
    "`(?:A)` - Matches the expression as represented by A, but unlike `(?PAB)`, it cannot be retrieved afterwards.<br>\n",
    "\n",
    "For a more complex cheatsheet checkout [this link](https://www.dataquest.io/blog/regex-cheatsheet/)."
   ]
  },
  {
   "cell_type": "code",
   "execution_count": 12,
   "metadata": {},
   "outputs": [],
   "source": [
    "#export\n",
    "def _make_regex(\n",
    "    body: str, \n",
    "    expect_module: int, \n",
    "    comment: str, \n",
    "    prefix:str =r\"\\s*\\#\\s*\"\n",
    ") -> Pattern:\n",
    "    \"\"\"\n",
    "    Create a Regular Expression given a pattern (body) and a prefix\n",
    "    !Note: This function adds a `#` at the beggining \n",
    "    \n",
    "    :param body: The body of the Regular Expression\n",
    "    :param expect_module: A flag for marking if the Regular Expression should expect\n",
    "                          a module name and save it in the groups\n",
    "    :param comment: A comment describing the use of the regex\n",
    "    :param prefix: The pattern before the body of the regex\n",
    "    \n",
    "    :return: The Regular Expression Pattern \n",
    "    \"\"\"\n",
    "    groups = \"\"\n",
    "    \n",
    "    if expect_module == NO_MODULE: # NO_MODULE -> #export\n",
    "        groups = \"\"\n",
    "    elif expect_module == MODULE:     \n",
    "        groups = r\"[ \\t]+(\\S+)\"\n",
    "    elif expect_module == MAYBE_MODULE:\n",
    "        groups = r\"(?:[ \\t]+(\\S+))?\"\n",
    "    \n",
    "    return re.compile(rf\"\"\" #\n",
    "            # {comment}: # a brief description of the regex\n",
    "            ^            # match the beggining of line\n",
    "            {prefix}     # whitespace before #export\n",
    "            {body}       # the main body of the regex\n",
    "            {groups}     # groups of the regex \n",
    "            [ \\t]*       # spaces or tabs after #export\n",
    "            $            # end of line\n",
    "            \"\"\", re.MULTILINE | re.VERBOSE)"
   ]
  },
  {
   "cell_type": "code",
   "execution_count": 13,
   "metadata": {},
   "outputs": [],
   "source": [
    "#export\n",
    "_re_simple_export =  _make_regex(\"export[i]?\", \n",
    "                                NO_MODULE,\n",
    "    \"Match line starting with #export[i] and no module name\")"
   ]
  },
  {
   "cell_type": "code",
   "execution_count": 14,
   "metadata": {},
   "outputs": [],
   "source": [
    "#export\n",
    "_re_module_export =  _make_regex(\"export[i]?\", \n",
    "                                MODULE,\n",
    "    \"Match line starting with #export[i] with a module name\")"
   ]
  },
  {
   "cell_type": "code",
   "execution_count": 15,
   "metadata": {},
   "outputs": [],
   "source": [
    "#export\n",
    "_re_internal_export = _make_regex(\"exporti\", \n",
    "                                 MAYBE_MODULE,\n",
    "     \"Match line starting with #exporti with or without a module name\")"
   ]
  },
  {
   "cell_type": "code",
   "execution_count": 16,
   "metadata": {},
   "outputs": [],
   "source": [
    "#export\n",
    "_re_export_name = re.compile(r\"\"\"\n",
    "                             ^              # match the beggining of line\n",
    "                             (?:async\\sdef|def|class)\n",
    "                             \\s+            # whitespace\n",
    "                             ([^\\(\\s]+)     # catch group that starts with any chatacter except ( or whitespace\n",
    "                             \\s*            # again whitespace\n",
    "                             (?:\\(|:)       # # non-catching group with ( or :\n",
    "                             \"\"\", re.MULTILINE | re.VERBOSE)"
   ]
  },
  {
   "cell_type": "code",
   "execution_count": 17,
   "metadata": {},
   "outputs": [],
   "source": [
    "#export\n",
    "_re__all__ = re.compile(r'^__all__\\s*=\\s*\\[([^\\]]*)\\]', re.MULTILINE)"
   ]
  },
  {
   "cell_type": "code",
   "execution_count": 18,
   "metadata": {},
   "outputs": [],
   "source": [
    "#export\n",
    "def search_regex(cell, pattern: str or Pattern) -> Match or None:\n",
    "    \"\"\"\n",
    "    Search a given pattern inside a notebook CODE cell\n",
    "    \n",
    "    :param cell: The jupyter notebook cell\n",
    "    :param pattern: The pattern to be searched\n",
    "    \n",
    "    :return: the Match of the pattern inside the cell or None\n",
    "    \"\"\"\n",
    "    \n",
    "    # only search for 'code' cells\n",
    "    if cell[CELL_TYPE] != CODE: \n",
    "        return None\n",
    "    \n",
    "    if isinstance(pattern, str):\n",
    "        pattern = re.compile(pattern, re.IGNORECASE | re.MULTILINE)\n",
    "    \n",
    "    return pattern.search(cell[SOURCE])"
   ]
  },
  {
   "cell_type": "code",
   "execution_count": 19,
   "metadata": {},
   "outputs": [],
   "source": [
    "#exporti\n",
    "def _get_module_name(re_match: Match) -> str:\n",
    "    \"\"\"\n",
    "    Get the name of the module for a match \n",
    "    of the folowing structure:\n",
    "    \n",
    "    #export[i] module_name\n",
    "    \n",
    "    :param re_match: The regular expression match\n",
    "    :return: The name of the module\n",
    "    \"\"\"\n",
    "    return re_match.groups()[0]"
   ]
  },
  {
   "cell_type": "code",
   "execution_count": 20,
   "metadata": {},
   "outputs": [],
   "source": [
    "#exporti\n",
    "def _is_internal_export(re_match: Match) -> bool:\n",
    "    \"\"\"\n",
    "    Check if match was of type \n",
    "    #exporti \n",
    "    meaning internal export (not to be included in __all__)\n",
    "        \n",
    "    :param re_match: The regular expression match\n",
    "    :return: If the match is an internal export\n",
    "    \"\"\"\n",
    "    return _re_internal_export.search(re_match.string) is not None"
   ]
  },
  {
   "cell_type": "code",
   "execution_count": 21,
   "metadata": {},
   "outputs": [],
   "source": [
    "#export\n",
    "def is_export_cell(cell, default_module: str) -> Tuple[str, bool] or None:\n",
    "    \"\"\"\n",
    "    Check if a CODE cell should be exported to a python module\n",
    "    \n",
    "    :param cell: The jupyter notebook cell\n",
    "    :param default_module: The default name of the module\n",
    "                           where the code from the cell should be exported\n",
    "                           (for #export cells)\n",
    "    :return: A tuple containing the name of the module where the code\n",
    "             will be exported and a boolean marking if it is an external\n",
    "             or internal export\n",
    "    \"\"\"\n",
    "    \n",
    "    # check if it is a export cell without a module name\n",
    "    if simple_export := search_regex(cell, _re_simple_export):\n",
    "        return default_module, _is_internal_export(simple_export)\n",
    "    \n",
    "    # check if it is an export with a module name\n",
    "    if module_export := search_regex(cell, _re_module_export):\n",
    "        return get_module_name(module_export), _is_internal_export(module_export)\n",
    "    \n",
    "    # it wasn't a cell to export\n",
    "    return None"
   ]
  },
  {
   "cell_type": "code",
   "execution_count": 22,
   "metadata": {},
   "outputs": [],
   "source": [
    "#exporti\n",
    "def clean_line(line, clean_export=False) -> str:\n",
    "    \"\"\"\n",
    "    Remove whitespace from a line of code\n",
    "    \n",
    "    :param line: The line to be cleaned\n",
    "    :param clean_export: Flag for removing `#Cell` from the\n",
    "                         final exported line\n",
    "\n",
    "    :return: The cleaned line\n",
    "    \"\"\"\n",
    "    if clean_export and line == '\\n\\n#Cell':\n",
    "        return '\\n\\n'\n",
    "    \n",
    "    return line.rstrip()"
   ]
  },
  {
   "cell_type": "code",
   "execution_count": 23,
   "metadata": {},
   "outputs": [],
   "source": [
    "#export\n",
    "def clean_cell(cell, clean_export=False) -> str:\n",
    "    \"\"\"\n",
    "    Prepare a cell to be exported by:\n",
    "     - removing the #export\n",
    "     - adding a `#Cell` marking the code belonged in a cell\n",
    "     - removing any trailing whitespace\n",
    "     \n",
    "    :param cell: The jupyter notebook cell\n",
    "    :param clean_export: Flag for adding or not adding `#Cell`\n",
    "    \n",
    "    :return: The code to be exported\n",
    "    \"\"\"\n",
    "    \n",
    "    code_lines = cell[SOURCE].split('\\n')[1:]\n",
    "    \n",
    "    while '#default_export' in code_lines[0] or '#export' in code_lines[0]:\n",
    "        code_lines.pop(0)\n",
    "    \n",
    "    code_lines = ['\\n\\n#Cell'] + code_lines\n",
    "        \n",
    "    return '\\n'.join(clean_line(line, clean_export=clean_export) for line in code_lines)"
   ]
  },
  {
   "cell_type": "code",
   "execution_count": 24,
   "metadata": {},
   "outputs": [],
   "source": [
    "#export\n",
    "def _add_to_all(module_name: str, names: List[str], line_width: int=100) -> None:\n",
    "    \"\"\"\n",
    "    Append a list of names (classes, functions, variables) to the __all__\n",
    "    of a given python module (given by name)\n",
    "    \n",
    "    :param module_name: The name of the python module where to append the names\n",
    "    :param names: A list of names to be added to __all__\n",
    "    :param line_width: The width of the line before adding \\n\n",
    "    \"\"\"\n",
    "    \n",
    "    # check if there are any names to append\n",
    "    if not names:\n",
    "        return\n",
    "    \n",
    "    # read the current contents of the module\n",
    "    with open(module_name, 'r', encoding='utf8') as f: \n",
    "        text = f.read()\n",
    "    \n",
    "    text_wrapper = TextWrapper(width=line_width, \n",
    "                               initial_indent='', \n",
    "                               subsequent_indent=' ' * len('__all__ = ['), \n",
    "                               break_long_words=False)\n",
    "    \n",
    "    # find the __all__ inside the python module\n",
    "    re__all__ = _re__all__.search(text)\n",
    "    \n",
    "    # get the indices where the __all__ list starts and end\n",
    "    start, end = re__all__.start(), re__all__.end()\n",
    "    \n",
    "    text__all__ = text_wrapper.wrap(f\"{text[start:end-1]}{'' if text[end-2]=='[' else ', '}{', '.join(names)}]\")\n",
    "    \n",
    "    # add the new names\n",
    "    with open(module_name, 'w', encoding='utf8') as f:\n",
    "        f.write(text[:start] + '\\n'.join(text__all__) + text[end:])"
   ]
  },
  {
   "cell_type": "code",
   "execution_count": 25,
   "metadata": {},
   "outputs": [],
   "source": [
    "#export\n",
    "def is_private(name: str) -> bool:\n",
    "    \"\"\"\n",
    "    Check if a given name is private or not\n",
    "    \n",
    "    :param name: The name to be checked\n",
    "    :return: If the name is private or not\n",
    "    \"\"\"\n",
    "    #Objects with dots are privates if one part is private\n",
    "    for attribute in name.split('.'):\n",
    "        if (attribute.startswith('_') and not attribute.startswith('__')) \\\n",
    "            or attribute.startswith('@'): \n",
    "            return True\n",
    "        \n",
    "    return ('\\\\' in attribute) or \\\n",
    "           ('^'  in attribute) or \\\n",
    "           ('['  in attribute) or \\\n",
    "           (attribute == 'else')"
   ]
  },
  {
   "cell_type": "code",
   "execution_count": 26,
   "metadata": {},
   "outputs": [],
   "source": [
    "#export\n",
    "def get_exported_names(code: str) -> List[str]:\n",
    "    \"\"\"\n",
    "    Get the names to export from a series of line of code\n",
    "    \n",
    "    :param code: The code containing functions, classes and/or variables\n",
    "                 to include in __all__\n",
    "    :return: A list of names to include in __all__\n",
    "    \"\"\"\n",
    "    names = _re_export_name.findall(code)\n",
    "    return [f\"'{name}'\" for name in names if not is_private(name) and not iskeyword(name)]"
   ]
  },
  {
   "cell_type": "code",
   "execution_count": 27,
   "metadata": {},
   "outputs": [],
   "source": [
    "#exporti\n",
    "_re_default_module_name = _make_regex('default_export', \n",
    "                                     MODULE, \n",
    "    \"Match a line starting with #default_export with a module name\")"
   ]
  },
  {
   "cell_type": "code",
   "execution_count": 28,
   "metadata": {},
   "outputs": [],
   "source": [
    "#exporti\n",
    "def _uncapitalize(string: str) -> str:\n",
    "    \"\"\"Make the first letter in a string lowercase\"\"\"\n",
    "    return string[0].lower() + string[1:]"
   ]
  },
  {
   "cell_type": "code",
   "execution_count": 29,
   "metadata": {},
   "outputs": [],
   "source": [
    "#export\n",
    "def find_default_module(nb_path: Path) -> str:\n",
    "    \"\"\"\n",
    "    Find a line in a Jupyter Notebook cell containing\n",
    "    #default_export module_name\n",
    "    !Note: if there is no match then it return the name of the notebook\n",
    "    \n",
    "    :param nb_path: The path to the notebook\n",
    "    :return: The name of the exported python module\n",
    "    \"\"\"\n",
    "    nb = read_notebook(nb_path)\n",
    "    \n",
    "    for cell in nb[CELLS]:\n",
    "        if default_re_match := search_regex(cell, _re_default_module_name):\n",
    "            return _get_module_name(default_re_match)\n",
    "        \n",
    "    return _uncapitalize(nb_path.stem)"
   ]
  },
  {
   "cell_type": "code",
   "execution_count": 30,
   "metadata": {},
   "outputs": [],
   "source": [
    "#export\n",
    "def export_notebook(\n",
    "    nb_path: str or Path,\n",
    "    default_module_name: str or None=None,\n",
    "    include_header: bool=True, \n",
    "    override: bool=True,\n",
    "    clean_export: bool=False\n",
    ") -> None:\n",
    "    \"\"\"\n",
    "    Export a Jupyter Notebook to a python module\n",
    "    \n",
    "    :param default_module_name: The name of the exported python module\n",
    "    :param nb_path: The path to the jupyter notebook\n",
    "    :param include_header: Flag for adding 'AUTOGENERATED' at the beggining of the module\n",
    "    :param override: Flag to override the contents of existing python module\n",
    "                     with the same name as `default_module_name`\n",
    "    \"\"\"\n",
    "    if isinstance(nb_path, str):\n",
    "        \n",
    "        if not nb_path.endswith('.ipynb'):\n",
    "            nb_path += '.ipynb'\n",
    "\n",
    "        nb_path = Path(nb_path)\n",
    "    \n",
    "    if default_module_name is None:\n",
    "        default_module_name = find_default_module(nb_path)\n",
    "    \n",
    "    if not default_module_name.endswith('.py'):\n",
    "            default_module_name += '.py'\n",
    "            \n",
    "    if override:\n",
    "        if file_exists(default_module_name):\n",
    "            create_empty_file(default_module_name, nb_path, include_header=include_header)\n",
    "    \n",
    "    modules_all = dict()\n",
    "    nb = read_notebook(nb_path)\n",
    "    \n",
    "    # get all the cells that should be exported\n",
    "    to_export = [is_export_cell(cell, default_module_name) for cell in nb[CELLS]]\n",
    "    export_cells = [(cell, export) for (cell, export) in zip(nb[CELLS], to_export) if export is not None]\n",
    "    \n",
    "    for cell, (module_name, internal_export) in export_cells:\n",
    "        if not module_name.endswith('.py'):\n",
    "            module_name += '.py'\n",
    "        \n",
    "        code = clean_cell(cell, clean_export=clean_export)\n",
    "        \n",
    "        if not file_exists(module_name):\n",
    "            create_empty_file(module_name, nb_path, include_header=include_header)\n",
    "        \n",
    "        with open(module_name, 'a', encoding='utf8') as f:\n",
    "            f.write(code)\n",
    "        \n",
    "        if internal_export:\n",
    "            continue\n",
    "\n",
    "        if module_name not in modules_all:\n",
    "            modules_all[module_name] = []\n",
    "        else:\n",
    "            modules_all[module_name] += get_exported_names(code)\n",
    "    \n",
    "    for module_name, names in modules_all.items():\n",
    "        _add_to_all(module_name, names)\n",
    "\n",
    "    print(f\"Exported to {default_module_name}\")"
   ]
  },
  {
   "cell_type": "code",
   "execution_count": 31,
   "metadata": {},
   "outputs": [],
   "source": [
    "#export\n",
    "def export_notebooks(\n",
    "    nb_paths: List[Union[str, Path]], \n",
    "    default_module_names: Union[List[str], None]=None, \n",
    "    include_header: bool=True, \n",
    "    override: bool=False,\n",
    "    clean_export: bool=False\n",
    ") -> None:\n",
    "    \"\"\"\n",
    "    Export a list of Jupyter Notebooks into python modules\n",
    "    \n",
    "    :param nb_paths: A list with paths to Jupyter Notebooks to be exported\n",
    "    :param default_module_names: A list with names for the python modules\n",
    "    :param include_header: Flag for adding 'AUTOGENERATED' at the beggining of the module\n",
    "    :param override: Flag to override the contents of existing python module\n",
    "                     with the same name as `default_module_name`\n",
    "    \"\"\"\n",
    "    if default_module_names is None:\n",
    "        default_module_names = [None for _ in nb_paths]\n",
    "    \n",
    "    for nb_path, default_module_name in zip(nb_paths, default_module_names):\n",
    "        export_notebook(nb_path, \n",
    "                        default_module_name=default_module_name, \n",
    "                        include_header=include_header, \n",
    "                        override=override,\n",
    "                        clean_export=clean_export)"
   ]
  },
  {
   "cell_type": "code",
   "execution_count": 32,
   "metadata": {},
   "outputs": [],
   "source": [
    "#export\n",
    "def export_directory(\n",
    "    path_dir: Union[str, Path],\n",
    "    include_header: bool=True,\n",
    "    override: bool=False,\n",
    "    clean_export: bool=False\n",
    ") -> None:\n",
    "    \"\"\"\n",
    "    Export all jupyter notebooks from a given directory\n",
    "    \n",
    "    :param path_dir: The path to the directory\n",
    "    :param include_header: Flag for adding 'AUTOGENERATED' at the beggining of the module\n",
    "    :param override: Flag to override the contents of existing python module\n",
    "                     with the same name as `default_module_name`\n",
    "    \"\"\"\n",
    "    if isinstance(path_dir, str):\n",
    "        path_dir = Path(path_dir)\n",
    "        \n",
    "    for path in path_dir.iterdir():\n",
    "        if path.is_file() and path.name.lower().endswith('.ipynb'):\n",
    "            export_notebook(path,\n",
    "                            include_header=include_header,\n",
    "                            override=override,\n",
    "                            clean_export=clean_export)"
   ]
  },
  {
   "cell_type": "code",
   "execution_count": 33,
   "metadata": {},
   "outputs": [],
   "source": [
    "#export\n",
    "def clean_export_notebook(\n",
    "    path_dir: Union[str, Path],\n",
    "    override: bool=True\n",
    ") -> None:\n",
    "    \"\"\"\n",
    "    Export a Jupyter Notebook to a python module\n",
    "    \n",
    "    :param nb_path: The path to the jupyter notebook\n",
    "    :param include_header: Flag for adding 'AUTOGENERATED' at the beggining of the module\n",
    "    \"\"\"\n",
    "    export_notebook(path_dir, override=override, include_header=False, clean_export=True)"
   ]
  },
  {
   "cell_type": "code",
   "execution_count": 34,
   "metadata": {},
   "outputs": [
    {
     "name": "stdout",
     "output_type": "stream",
     "text": [
      "Exported to export.py\n"
     ]
    }
   ],
   "source": [
    "export_notebook(nb_path)"
   ]
  },
  {
   "cell_type": "code",
   "execution_count": null,
   "metadata": {},
   "outputs": [],
   "source": []
  }
 ],
 "metadata": {
  "kernelspec": {
   "display_name": "Python 3",
   "language": "python",
   "name": "python3"
  },
  "language_info": {
   "codemirror_mode": {
    "name": "ipython",
    "version": 3
   },
   "file_extension": ".py",
   "mimetype": "text/x-python",
   "name": "python",
   "nbconvert_exporter": "python",
   "pygments_lexer": "ipython3",
   "version": "3.8.3"
  }
 },
 "nbformat": 4,
 "nbformat_minor": 5
}
